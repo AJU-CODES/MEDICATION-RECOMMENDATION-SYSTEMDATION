{
 "cells": [
  {
   "cell_type": "markdown",
   "id": "3458f89b-ea58-4d94-8c29-d33ba495ed5e",
   "metadata": {},
   "source": [
    "# MEDICINE RECOMMENDATION SYSTEM"
   ]
  },
  {
   "cell_type": "markdown",
   "id": "0bf33e81-c5d6-427d-8a7a-120112782caa",
   "metadata": {},
   "source": [
    "## LIBRARY IMPORT "
   ]
  },
  {
   "cell_type": "code",
   "execution_count": 3,
   "id": "fdf59f41-7fd6-45ca-a6ad-05c14a6ad675",
   "metadata": {},
   "outputs": [],
   "source": [
    "import pandas as aju\n",
    "import numpy as np\n",
    "import pickle\n",
    "import warnings\n",
    "import ast\n",
    "\n",
    "from sklearn.svm import SVC\n",
    "from sklearn.ensemble import RandomForestClassifier, GradientBoostingClassifier\n",
    "from sklearn.neighbors import KNeighborsClassifier\n",
    "from sklearn.naive_bayes import MultinomialNB\n",
    "from sklearn.metrics import accuracy_score,confusion_matrix\n",
    "from sklearn.model_selection import train_test_split\n",
    "from sklearn.preprocessing import LabelEncoder\n",
    "\n",
    "warnings.filterwarnings('ignore')"
   ]
  },
  {
   "cell_type": "markdown",
   "id": "33872f50-4660-4c13-893b-082d08a2641b",
   "metadata": {},
   "source": [
    "## DATA IMPORT "
   ]
  },
  {
   "cell_type": "code",
   "execution_count": 5,
   "id": "781bb89d-69ab-4e6f-94f3-be33fa643f50",
   "metadata": {},
   "outputs": [],
   "source": [
    "df = aju.read_csv('./DATASET/Training.csv')"
   ]
  },
  {
   "cell_type": "markdown",
   "id": "c762992d-b306-4746-8db1-6bc645350bf2",
   "metadata": {},
   "source": [
    "## EDA"
   ]
  },
  {
   "cell_type": "code",
   "execution_count": 7,
   "id": "b38a8edd-fd24-4d19-96ff-5bf2a795c270",
   "metadata": {},
   "outputs": [
    {
     "data": {
      "text/html": [
       "<div>\n",
       "<style scoped>\n",
       "    .dataframe tbody tr th:only-of-type {\n",
       "        vertical-align: middle;\n",
       "    }\n",
       "\n",
       "    .dataframe tbody tr th {\n",
       "        vertical-align: top;\n",
       "    }\n",
       "\n",
       "    .dataframe thead th {\n",
       "        text-align: right;\n",
       "    }\n",
       "</style>\n",
       "<table border=\"1\" class=\"dataframe\">\n",
       "  <thead>\n",
       "    <tr style=\"text-align: right;\">\n",
       "      <th></th>\n",
       "      <th>itching</th>\n",
       "      <th>skin_rash</th>\n",
       "      <th>nodal_skin_eruptions</th>\n",
       "      <th>continuous_sneezing</th>\n",
       "      <th>shivering</th>\n",
       "      <th>chills</th>\n",
       "      <th>joint_pain</th>\n",
       "      <th>stomach_pain</th>\n",
       "      <th>acidity</th>\n",
       "      <th>ulcers_on_tongue</th>\n",
       "      <th>...</th>\n",
       "      <th>blackheads</th>\n",
       "      <th>scurring</th>\n",
       "      <th>skin_peeling</th>\n",
       "      <th>silver_like_dusting</th>\n",
       "      <th>small_dents_in_nails</th>\n",
       "      <th>inflammatory_nails</th>\n",
       "      <th>blister</th>\n",
       "      <th>red_sore_around_nose</th>\n",
       "      <th>yellow_crust_ooze</th>\n",
       "      <th>prognosis</th>\n",
       "    </tr>\n",
       "  </thead>\n",
       "  <tbody>\n",
       "    <tr>\n",
       "      <th>0</th>\n",
       "      <td>1</td>\n",
       "      <td>1</td>\n",
       "      <td>1</td>\n",
       "      <td>0</td>\n",
       "      <td>0</td>\n",
       "      <td>0</td>\n",
       "      <td>0</td>\n",
       "      <td>0</td>\n",
       "      <td>0</td>\n",
       "      <td>0</td>\n",
       "      <td>...</td>\n",
       "      <td>0</td>\n",
       "      <td>0</td>\n",
       "      <td>0</td>\n",
       "      <td>0</td>\n",
       "      <td>0</td>\n",
       "      <td>0</td>\n",
       "      <td>0</td>\n",
       "      <td>0</td>\n",
       "      <td>0</td>\n",
       "      <td>Fungal infection</td>\n",
       "    </tr>\n",
       "    <tr>\n",
       "      <th>1</th>\n",
       "      <td>0</td>\n",
       "      <td>1</td>\n",
       "      <td>1</td>\n",
       "      <td>0</td>\n",
       "      <td>0</td>\n",
       "      <td>0</td>\n",
       "      <td>0</td>\n",
       "      <td>0</td>\n",
       "      <td>0</td>\n",
       "      <td>0</td>\n",
       "      <td>...</td>\n",
       "      <td>0</td>\n",
       "      <td>0</td>\n",
       "      <td>0</td>\n",
       "      <td>0</td>\n",
       "      <td>0</td>\n",
       "      <td>0</td>\n",
       "      <td>0</td>\n",
       "      <td>0</td>\n",
       "      <td>0</td>\n",
       "      <td>Fungal infection</td>\n",
       "    </tr>\n",
       "    <tr>\n",
       "      <th>2</th>\n",
       "      <td>1</td>\n",
       "      <td>0</td>\n",
       "      <td>1</td>\n",
       "      <td>0</td>\n",
       "      <td>0</td>\n",
       "      <td>0</td>\n",
       "      <td>0</td>\n",
       "      <td>0</td>\n",
       "      <td>0</td>\n",
       "      <td>0</td>\n",
       "      <td>...</td>\n",
       "      <td>0</td>\n",
       "      <td>0</td>\n",
       "      <td>0</td>\n",
       "      <td>0</td>\n",
       "      <td>0</td>\n",
       "      <td>0</td>\n",
       "      <td>0</td>\n",
       "      <td>0</td>\n",
       "      <td>0</td>\n",
       "      <td>Fungal infection</td>\n",
       "    </tr>\n",
       "    <tr>\n",
       "      <th>3</th>\n",
       "      <td>1</td>\n",
       "      <td>1</td>\n",
       "      <td>0</td>\n",
       "      <td>0</td>\n",
       "      <td>0</td>\n",
       "      <td>0</td>\n",
       "      <td>0</td>\n",
       "      <td>0</td>\n",
       "      <td>0</td>\n",
       "      <td>0</td>\n",
       "      <td>...</td>\n",
       "      <td>0</td>\n",
       "      <td>0</td>\n",
       "      <td>0</td>\n",
       "      <td>0</td>\n",
       "      <td>0</td>\n",
       "      <td>0</td>\n",
       "      <td>0</td>\n",
       "      <td>0</td>\n",
       "      <td>0</td>\n",
       "      <td>Fungal infection</td>\n",
       "    </tr>\n",
       "    <tr>\n",
       "      <th>4</th>\n",
       "      <td>1</td>\n",
       "      <td>1</td>\n",
       "      <td>1</td>\n",
       "      <td>0</td>\n",
       "      <td>0</td>\n",
       "      <td>0</td>\n",
       "      <td>0</td>\n",
       "      <td>0</td>\n",
       "      <td>0</td>\n",
       "      <td>0</td>\n",
       "      <td>...</td>\n",
       "      <td>0</td>\n",
       "      <td>0</td>\n",
       "      <td>0</td>\n",
       "      <td>0</td>\n",
       "      <td>0</td>\n",
       "      <td>0</td>\n",
       "      <td>0</td>\n",
       "      <td>0</td>\n",
       "      <td>0</td>\n",
       "      <td>Fungal infection</td>\n",
       "    </tr>\n",
       "  </tbody>\n",
       "</table>\n",
       "<p>5 rows × 133 columns</p>\n",
       "</div>"
      ],
      "text/plain": [
       "   itching  skin_rash  nodal_skin_eruptions  continuous_sneezing  shivering  \\\n",
       "0        1          1                     1                    0          0   \n",
       "1        0          1                     1                    0          0   \n",
       "2        1          0                     1                    0          0   \n",
       "3        1          1                     0                    0          0   \n",
       "4        1          1                     1                    0          0   \n",
       "\n",
       "   chills  joint_pain  stomach_pain  acidity  ulcers_on_tongue  ...  \\\n",
       "0       0           0             0        0                 0  ...   \n",
       "1       0           0             0        0                 0  ...   \n",
       "2       0           0             0        0                 0  ...   \n",
       "3       0           0             0        0                 0  ...   \n",
       "4       0           0             0        0                 0  ...   \n",
       "\n",
       "   blackheads  scurring  skin_peeling  silver_like_dusting  \\\n",
       "0           0         0             0                    0   \n",
       "1           0         0             0                    0   \n",
       "2           0         0             0                    0   \n",
       "3           0         0             0                    0   \n",
       "4           0         0             0                    0   \n",
       "\n",
       "   small_dents_in_nails  inflammatory_nails  blister  red_sore_around_nose  \\\n",
       "0                     0                   0        0                     0   \n",
       "1                     0                   0        0                     0   \n",
       "2                     0                   0        0                     0   \n",
       "3                     0                   0        0                     0   \n",
       "4                     0                   0        0                     0   \n",
       "\n",
       "   yellow_crust_ooze         prognosis  \n",
       "0                  0  Fungal infection  \n",
       "1                  0  Fungal infection  \n",
       "2                  0  Fungal infection  \n",
       "3                  0  Fungal infection  \n",
       "4                  0  Fungal infection  \n",
       "\n",
       "[5 rows x 133 columns]"
      ]
     },
     "execution_count": 7,
     "metadata": {},
     "output_type": "execute_result"
    }
   ],
   "source": [
    "df.head()"
   ]
  },
  {
   "cell_type": "code",
   "execution_count": 8,
   "id": "94b765de-6752-408e-b03f-605afc0ed100",
   "metadata": {},
   "outputs": [
    {
     "data": {
      "text/plain": [
       "(4920, 133)"
      ]
     },
     "execution_count": 8,
     "metadata": {},
     "output_type": "execute_result"
    }
   ],
   "source": [
    "df.shape"
   ]
  },
  {
   "cell_type": "code",
   "execution_count": 9,
   "id": "2f97c2f5-959d-4791-9431-0c8452560e71",
   "metadata": {},
   "outputs": [
    {
     "data": {
      "text/plain": [
       "prognosis\n",
       "Fungal infection                           120\n",
       "Hepatitis C                                120\n",
       "Hepatitis E                                120\n",
       "Alcoholic hepatitis                        120\n",
       "Tuberculosis                               120\n",
       "Common Cold                                120\n",
       "Pneumonia                                  120\n",
       "Dimorphic hemmorhoids(piles)               120\n",
       "Heart attack                               120\n",
       "Varicose veins                             120\n",
       "Hypothyroidism                             120\n",
       "Hyperthyroidism                            120\n",
       "Hypoglycemia                               120\n",
       "Osteoarthristis                            120\n",
       "Arthritis                                  120\n",
       "(vertigo) Paroymsal  Positional Vertigo    120\n",
       "Acne                                       120\n",
       "Urinary tract infection                    120\n",
       "Psoriasis                                  120\n",
       "Hepatitis D                                120\n",
       "Hepatitis B                                120\n",
       "Allergy                                    120\n",
       "hepatitis A                                120\n",
       "GERD                                       120\n",
       "Chronic cholestasis                        120\n",
       "Drug Reaction                              120\n",
       "Peptic ulcer diseae                        120\n",
       "AIDS                                       120\n",
       "Diabetes                                   120\n",
       "Gastroenteritis                            120\n",
       "Bronchial Asthma                           120\n",
       "Hypertension                               120\n",
       "Migraine                                   120\n",
       "Cervical spondylosis                       120\n",
       "Paralysis (brain hemorrhage)               120\n",
       "Jaundice                                   120\n",
       "Malaria                                    120\n",
       "Chicken pox                                120\n",
       "Dengue                                     120\n",
       "Typhoid                                    120\n",
       "Impetigo                                   120\n",
       "Name: count, dtype: int64"
      ]
     },
     "execution_count": 9,
     "metadata": {},
     "output_type": "execute_result"
    }
   ],
   "source": [
    "df.prognosis.value_counts()"
   ]
  },
  {
   "cell_type": "code",
   "execution_count": 10,
   "id": "8623f456-92ca-4859-bcae-43a13bb272e5",
   "metadata": {},
   "outputs": [
    {
     "name": "stdout",
     "output_type": "stream",
     "text": [
      "<class 'pandas.core.frame.DataFrame'>\n",
      "RangeIndex: 4920 entries, 0 to 4919\n",
      "Columns: 133 entries, itching to prognosis\n",
      "dtypes: int64(132), object(1)\n",
      "memory usage: 5.0+ MB\n"
     ]
    }
   ],
   "source": [
    "df.info()"
   ]
  },
  {
   "cell_type": "code",
   "execution_count": 11,
   "id": "c4d4cecc-5f03-4e9f-b662-58be80a8dc84",
   "metadata": {},
   "outputs": [
    {
     "data": {
      "text/plain": [
       "itching                 0\n",
       "skin_rash               0\n",
       "nodal_skin_eruptions    0\n",
       "continuous_sneezing     0\n",
       "shivering               0\n",
       "                       ..\n",
       "inflammatory_nails      0\n",
       "blister                 0\n",
       "red_sore_around_nose    0\n",
       "yellow_crust_ooze       0\n",
       "prognosis               0\n",
       "Length: 133, dtype: int64"
      ]
     },
     "execution_count": 11,
     "metadata": {},
     "output_type": "execute_result"
    }
   ],
   "source": [
    "df.isna().sum()"
   ]
  },
  {
   "cell_type": "markdown",
   "id": "51355efc-e034-4e1b-a45f-bb194cc3a25d",
   "metadata": {},
   "source": [
    "## TRAIN TEST SPLIT"
   ]
  },
  {
   "cell_type": "code",
   "execution_count": 13,
   "id": "8c20fa11-9bb5-45bd-8f60-4713d04a9edc",
   "metadata": {},
   "outputs": [],
   "source": [
    "x = df.drop('prognosis',axis = 'columns')\n",
    "y = df.prognosis"
   ]
  },
  {
   "cell_type": "code",
   "execution_count": 14,
   "id": "17a5aa9d-fd7a-4042-a18d-7497328db3f3",
   "metadata": {},
   "outputs": [],
   "source": [
    "le = LabelEncoder()\n",
    "Y = le.fit_transform(y)"
   ]
  },
  {
   "cell_type": "code",
   "execution_count": 15,
   "id": "055a82d3-bff1-4412-9588-2c5172499a48",
   "metadata": {},
   "outputs": [
    {
     "data": {
      "text/plain": [
       "array([15, 15, 15, ..., 38, 35, 27])"
      ]
     },
     "execution_count": 15,
     "metadata": {},
     "output_type": "execute_result"
    }
   ],
   "source": [
    "Y"
   ]
  },
  {
   "cell_type": "code",
   "execution_count": 16,
   "id": "35cafe2f-8c87-42cf-800e-b683340c33a9",
   "metadata": {},
   "outputs": [],
   "source": [
    "x_train,x_test,y_train,y_test = train_test_split(x,Y,test_size = 0.30,random_state = 99)"
   ]
  },
  {
   "cell_type": "code",
   "execution_count": 17,
   "id": "a008a4f0-f881-41da-9a7f-c4250a706f7c",
   "metadata": {},
   "outputs": [
    {
     "name": "stdout",
     "output_type": "stream",
     "text": [
      "(3444, 132) | (1476, 132) | (3444,) | (1476,)\n"
     ]
    }
   ],
   "source": [
    "print(x_train.shape,\"|\",x_test.shape,\"|\",y_train.shape,\"|\",y_test.shape)"
   ]
  },
  {
   "cell_type": "markdown",
   "id": "7ec2f08c-5611-4183-8be9-b92c118e7418",
   "metadata": {},
   "source": [
    "## MODEL BUILDING"
   ]
  },
  {
   "cell_type": "code",
   "execution_count": 19,
   "id": "0014349f-981e-41ca-a298-cefde9070b87",
   "metadata": {},
   "outputs": [
    {
     "name": "stdout",
     "output_type": "stream",
     "text": [
      "svc:1.0\n",
      "svc Confusion_Matrix:\n",
      "[[45,  0,  0, ...,  0,  0,  0],\n",
      " [ 0, 32,  0, ...,  0,  0,  0],\n",
      " [ 0,  0, 35, ...,  0,  0,  0],\n",
      " ...,\n",
      " [ 0,  0,  0, ..., 36,  0,  0],\n",
      " [ 0,  0,  0, ...,  0, 39,  0],\n",
      " [ 0,  0,  0, ...,  0,  0, 33]]\n",
      "\n",
      "==================================================\n",
      "\n",
      "rfc:1.0\n",
      "rfc Confusion_Matrix:\n",
      "[[45,  0,  0, ...,  0,  0,  0],\n",
      " [ 0, 32,  0, ...,  0,  0,  0],\n",
      " [ 0,  0, 35, ...,  0,  0,  0],\n",
      " ...,\n",
      " [ 0,  0,  0, ..., 36,  0,  0],\n",
      " [ 0,  0,  0, ...,  0, 39,  0],\n",
      " [ 0,  0,  0, ...,  0,  0, 33]]\n",
      "\n",
      "==================================================\n",
      "\n",
      "gbc:1.0\n",
      "gbc Confusion_Matrix:\n",
      "[[45,  0,  0, ...,  0,  0,  0],\n",
      " [ 0, 32,  0, ...,  0,  0,  0],\n",
      " [ 0,  0, 35, ...,  0,  0,  0],\n",
      " ...,\n",
      " [ 0,  0,  0, ..., 36,  0,  0],\n",
      " [ 0,  0,  0, ...,  0, 39,  0],\n",
      " [ 0,  0,  0, ...,  0,  0, 33]]\n",
      "\n",
      "==================================================\n",
      "\n",
      "knn:1.0\n",
      "knn Confusion_Matrix:\n",
      "[[45,  0,  0, ...,  0,  0,  0],\n",
      " [ 0, 32,  0, ...,  0,  0,  0],\n",
      " [ 0,  0, 35, ...,  0,  0,  0],\n",
      " ...,\n",
      " [ 0,  0,  0, ..., 36,  0,  0],\n",
      " [ 0,  0,  0, ...,  0, 39,  0],\n",
      " [ 0,  0,  0, ...,  0,  0, 33]]\n",
      "\n",
      "==================================================\n",
      "\n",
      "Multinomial:1.0\n",
      "Multinomial Confusion_Matrix:\n",
      "[[45,  0,  0, ...,  0,  0,  0],\n",
      " [ 0, 32,  0, ...,  0,  0,  0],\n",
      " [ 0,  0, 35, ...,  0,  0,  0],\n",
      " ...,\n",
      " [ 0,  0,  0, ..., 36,  0,  0],\n",
      " [ 0,  0,  0, ...,  0, 39,  0],\n",
      " [ 0,  0,  0, ...,  0,  0, 33]]\n",
      "\n",
      "==================================================\n",
      "\n"
     ]
    }
   ],
   "source": [
    "models = {\n",
    "    'svc':SVC(kernel = 'linear'),\n",
    "    'rfc':RandomForestClassifier(),\n",
    "    'gbc':GradientBoostingClassifier(),\n",
    "    'knn':KNeighborsClassifier(),\n",
    "    'Multinomial':MultinomialNB()\n",
    "}\n",
    "\n",
    "for model_name,model in models.items():\n",
    "    model.fit(x_train,y_train)\n",
    "    prediction = model.predict(x_test)\n",
    "    acc = accuracy_score(y_test,prediction)\n",
    "    print(f'{model_name}:{acc}')\n",
    "    cmap = confusion_matrix(y_test,prediction)\n",
    "    print(f'{model_name} Confusion_Matrix:')\n",
    "    print(np.array2string(cmap,separator = ', '))\n",
    "    print('\\n'+\"=\"*50+\"\\n\")\n",
    "    "
   ]
  },
  {
   "cell_type": "markdown",
   "id": "0b1a4c38-f1fd-4574-a532-c32fd8a71fb5",
   "metadata": {},
   "source": [
    "The dataset is preprocessed well so all the models showing 100% accuracy"
   ]
  },
  {
   "cell_type": "markdown",
   "id": "fff20685-daca-419e-8aaa-18ca779cac60",
   "metadata": {},
   "source": [
    "## SAVING SVC MODEL"
   ]
  },
  {
   "cell_type": "code",
   "execution_count": 22,
   "id": "0f8785c3-2ec8-4062-96d2-d4d1e1b3b4ec",
   "metadata": {},
   "outputs": [
    {
     "data": {
      "text/plain": [
       "1.0"
      ]
     },
     "execution_count": 22,
     "metadata": {},
     "output_type": "execute_result"
    }
   ],
   "source": [
    "svc = SVC(kernel = 'linear')\n",
    "svc.fit(x_train,y_train)\n",
    "y_pred = svc.predict(x_test)\n",
    "accuracy_score(y_test,y_pred)"
   ]
  },
  {
   "cell_type": "code",
   "execution_count": 23,
   "id": "ac31a270-23eb-415e-9e50-d88ffbecbf5a",
   "metadata": {},
   "outputs": [],
   "source": [
    "pickle.dump(svc,open('svc.pkl','wb'))"
   ]
  },
  {
   "cell_type": "code",
   "execution_count": 24,
   "id": "72bb687b-ecf6-4365-8e03-5e6431c950cf",
   "metadata": {},
   "outputs": [],
   "source": [
    "svc = pickle.load(open('svc.pkl','rb'))"
   ]
  },
  {
   "cell_type": "code",
   "execution_count": 25,
   "id": "7fb08cf1-8b20-4958-98f9-05b3e357fed3",
   "metadata": {},
   "outputs": [
    {
     "name": "stdout",
     "output_type": "stream",
     "text": [
      "Prediction value [27]\n",
      "Actual Value 27\n"
     ]
    }
   ],
   "source": [
    "print(\"Prediction value\",svc.predict([x_test.iloc[0]]))\n",
    "print(\"Actual Value\",y_test[0])"
   ]
  },
  {
   "cell_type": "code",
   "execution_count": 26,
   "id": "b5a9d330-0b04-4c98-b6fd-c0def25cca4e",
   "metadata": {},
   "outputs": [
    {
     "name": "stdout",
     "output_type": "stream",
     "text": [
      "Prediction value [22]\n",
      "Actual Value 22\n"
     ]
    }
   ],
   "source": [
    "print(\"Prediction value\",svc.predict([x_test.iloc[10]]))\n",
    "print(\"Actual Value\",y_test[10])"
   ]
  },
  {
   "cell_type": "markdown",
   "id": "573d427c-21e5-4fbe-86eb-e6dd0f26c94b",
   "metadata": {},
   "source": [
    "# LOAD DATABASE AND LOGIC FOR RECOMMENDATIONS"
   ]
  },
  {
   "cell_type": "code",
   "execution_count": 28,
   "id": "a45da52b-4ab1-4799-9204-f0dab8f4f4c7",
   "metadata": {},
   "outputs": [],
   "source": [
    "# THESE DATASETS ARE PREBUILT DATABASE \n",
    "sys_des = aju.read_csv(\"./DATASET/symtoms_df.csv\")\n",
    "precautions = aju.read_csv(\"./DATASET/precautions_df.csv\")\n",
    "workout = aju.read_csv(\"./DATASET/workout_df.csv\")\n",
    "description = aju.read_csv(\"./DATASET/description.csv\")\n",
    "medication = aju.read_csv(\"./DATASET/medications.csv\")\n",
    "diet = aju.read_csv(\"./DATASET/diets.csv\")"
   ]
  },
  {
   "cell_type": "code",
   "execution_count": 29,
   "id": "a324a5cc-e1f4-4f5d-9349-878e7259c21f",
   "metadata": {},
   "outputs": [
    {
     "name": "stdout",
     "output_type": "stream",
     "text": [
      "   Unnamed: 0           Disease   Symptom_1              Symptom_2  \\\n",
      "0           0  Fungal infection     itching              skin_rash   \n",
      "1           1  Fungal infection   skin_rash   nodal_skin_eruptions   \n",
      "\n",
      "               Symptom_3             Symptom_4  \n",
      "0   nodal_skin_eruptions   dischromic _patches  \n",
      "1    dischromic _patches                   NaN  \n",
      "\n",
      "==================================================\n",
      "\n",
      "(4920, 6)\n"
     ]
    }
   ],
   "source": [
    "print(sys_des.head(2))\n",
    "print(\"\\n\"+ 50*'='+\"\\n\")\n",
    "print(sys_des.shape)"
   ]
  },
  {
   "cell_type": "code",
   "execution_count": 30,
   "id": "6d7dd38d-0256-4e11-b873-be6e8e9cec07",
   "metadata": {},
   "outputs": [
    {
     "data": {
      "text/plain": [
       "41"
      ]
     },
     "execution_count": 30,
     "metadata": {},
     "output_type": "execute_result"
    }
   ],
   "source": [
    "len(sys_des.Disease.unique())"
   ]
  },
  {
   "cell_type": "code",
   "execution_count": 31,
   "id": "e47c9433-cb3b-41b8-9a8a-527a6a6ea1a8",
   "metadata": {},
   "outputs": [
    {
     "data": {
      "text/plain": [
       "51"
      ]
     },
     "execution_count": 31,
     "metadata": {},
     "output_type": "execute_result"
    }
   ],
   "source": [
    "len(sys_des.Symptom_4.unique())"
   ]
  },
  {
   "cell_type": "code",
   "execution_count": 32,
   "id": "a963827f-8c3b-41e8-a015-3074ffea3a3c",
   "metadata": {},
   "outputs": [
    {
     "name": "stdout",
     "output_type": "stream",
     "text": [
      "   Unnamed: 0        Disease              Precaution_1  \\\n",
      "0           0  Drug Reaction           stop irritation   \n",
      "1           1        Malaria  Consult nearest hospital   \n",
      "\n",
      "               Precaution_2        Precaution_3        Precaution_4  \n",
      "0  consult nearest hospital    stop taking drug           follow up  \n",
      "1           avoid oily food  avoid non veg food  keep mosquitos out  \n",
      "\n",
      "==================================================\n",
      "\n",
      "(41, 6)\n"
     ]
    }
   ],
   "source": [
    "print(precautions.head(2))\n",
    "print(\"\\n\"+ 50*'='+\"\\n\")\n",
    "print(precautions.shape)"
   ]
  },
  {
   "cell_type": "code",
   "execution_count": 33,
   "id": "970ed095-9ba6-4208-96d5-7d27bec000d2",
   "metadata": {},
   "outputs": [
    {
     "name": "stdout",
     "output_type": "stream",
     "text": [
      "   Unnamed: 0.1  Unnamed: 0           disease             workout\n",
      "0             0           0  Fungal infection  Avoid sugary foods\n",
      "1             1           1  Fungal infection  Consume probiotics\n",
      "\n",
      "==================================================\n",
      "\n",
      "(410, 4)\n"
     ]
    }
   ],
   "source": [
    "print(workout.head(2))\n",
    "print(\"\\n\"+ 50*'='+\"\\n\")\n",
    "print(workout.shape)"
   ]
  },
  {
   "cell_type": "code",
   "execution_count": 34,
   "id": "84cabccf-e50d-4d28-8e2c-07e7fba367c7",
   "metadata": {},
   "outputs": [
    {
     "name": "stdout",
     "output_type": "stream",
     "text": [
      "            Disease                                        Description\n",
      "0  Fungal infection  Fungal infection is a common skin condition ca...\n",
      "1           Allergy  Allergy is an immune system reaction to a subs...\n",
      "\n",
      "==================================================\n",
      "\n",
      "(41, 2)\n"
     ]
    }
   ],
   "source": [
    "print(description.head(2))\n",
    "print(\"\\n\"+ 50*'='+\"\\n\")\n",
    "print(description.shape)"
   ]
  },
  {
   "cell_type": "code",
   "execution_count": 35,
   "id": "57368d87-3705-4fe4-950b-a08dc170b1b0",
   "metadata": {},
   "outputs": [
    {
     "name": "stdout",
     "output_type": "stream",
     "text": [
      "            Disease                                         Medication\n",
      "0  Fungal infection  ['Antifungal Cream', 'Fluconazole', 'Terbinafi...\n",
      "1           Allergy  ['Antihistamines', 'Decongestants', 'Epinephri...\n",
      "\n",
      "==================================================\n",
      "\n",
      "(41, 2)\n"
     ]
    }
   ],
   "source": [
    "print(medication.head(2))\n",
    "print(\"\\n\"+ 50*'='+\"\\n\")\n",
    "print(medication.shape)"
   ]
  },
  {
   "cell_type": "code",
   "execution_count": 36,
   "id": "ae4ae3a8-a904-4f50-990b-1b32cc0d95af",
   "metadata": {},
   "outputs": [
    {
     "name": "stdout",
     "output_type": "stream",
     "text": [
      "            Disease                                               Diet\n",
      "0  Fungal infection  ['Antifungal Diet', 'Probiotics', 'Garlic', 'C...\n",
      "1           Allergy  ['Elimination Diet', 'Omega-3-rich foods', 'Vi...\n",
      "\n",
      "==================================================\n",
      "\n",
      "(41, 2)\n"
     ]
    }
   ],
   "source": [
    "print(diet.head(2))\n",
    "print(\"\\n\"+ 50*'='+\"\\n\")\n",
    "print(diet.shape)"
   ]
  },
  {
   "cell_type": "code",
   "execution_count": 37,
   "id": "3fd77e21-6a8e-4ecd-b9d2-c2a51cb613aa",
   "metadata": {},
   "outputs": [],
   "source": [
    "# desc = description[description.Disease == pred_dis]['Description']\n",
    "# desc = \"\".join([w for w in desc])\n",
    "# desc"
   ]
  },
  {
   "cell_type": "code",
   "execution_count": 38,
   "id": "c4d4ad85-51d3-4471-b254-eabc71f823a0",
   "metadata": {},
   "outputs": [],
   "source": [
    "# prec =precautions[precautions.Disease == pred_dis][['Precaution_1','Precaution_2','Precaution_3','Precaution_4']]\n",
    "# prec = [col for col in prec.values]\n",
    "# prec"
   ]
  },
  {
   "cell_type": "code",
   "execution_count": 39,
   "id": "4043987b-75ea-4e58-8f96-b69659ccbf60",
   "metadata": {},
   "outputs": [],
   "source": [
    "# de = diet[diet.Disease == pred_dis]['Diet']\n",
    "# de = [col for col in de.values]\n",
    "# de"
   ]
  },
  {
   "cell_type": "code",
   "execution_count": 40,
   "id": "8a447430-ac6e-410b-bc60-10a9381432dc",
   "metadata": {},
   "outputs": [],
   "source": [
    "# wrk = workout[workout.disease == pred_dis]['workout']\n",
    "# wrk"
   ]
  },
  {
   "cell_type": "markdown",
   "id": "40848d06-94d2-4f80-8440-4e840054384c",
   "metadata": {},
   "source": [
    "desc = description[description.Disease == pred_dis]['Description']  \n",
    "desc = \"\".join([w for w in desc])  \n",
    "desc  \n",
    "'Allergy is an immune system reaction to a substance in the environment.' \n",
    "\n",
    "med = medication[medication['Disease'] == 'Fungal infection']['Medication']  \n",
    "med = [med for med in med.values]  \n",
    "med  \n",
    "[\"['Antifungal Cream', 'Fluconazole', 'Terbinafine', 'Clotrimazole', 'Ketoconazole']\"]  \n",
    "\n",
    "\n",
    "prec =precautions[precautions.Disease == pred_dis][['Precaution_1','Precaution_2','Precaution_3','Precaution_4']]  \n",
    "prec = [col for col in prec.values]  \n",
    "prec  \n",
    "[array(['apply calamine', 'cover area with bandage', nan, 'use ice to compress itching'], dtype=object)  \n",
    "\n",
    "de = diet[diet.Disease == pred_dis]['Diet']  \n",
    "de = [col for col in de.values]  \n",
    "de \n",
    "[\"['Elimination Diet', 'Omega-3-rich foods', 'Vitamin C-rich foods', 'Quercetin-rich foods', 'Probiotics']\"]  \n",
    "\n",
    "wrk = workout[workout.disease == pred_dis]['workout']  \n",
    "wrk  \n",
    "10             Avoid allergenic foods\r\n",
    "11    Consume anti-inflammatory foods\r\n",
    "12        Include omega-3 fatty acids\r\n",
    "13                      Stay hydrated\r\n",
    "14        Eat foods rich in vitamin C\r\n",
    "15       Include quercetin-rich foods\r\n",
    "16                Consume local honey\r\n",
    "17              Limit processed foods\r\n",
    "18             Include ginger in diet\r\n",
    "19         Avoid artificial additives\r\n",
    "Name: workout, dtype: object\n",
    "pe: object]"
   ]
  },
  {
   "cell_type": "markdown",
   "id": "fedd43a1-96ac-4ccb-ad7c-59cc9af5e9e0",
   "metadata": {},
   "source": [
    "## BUILDING PREDICTION FUNCTION AND FETCHING DATA FROM DIFFERENT DATASETS"
   ]
  },
  {
   "cell_type": "code",
   "execution_count": 45,
   "id": "454c2c79-d1ff-419d-8829-bcae1d14c5f7",
   "metadata": {},
   "outputs": [],
   "source": [
    "def helper(dis):\n",
    "    desc = description[description.Disease == dis]['Description']\n",
    "    desc = \"\".join([w for w in desc])\n",
    "\n",
    "    # med = medication[medication['Disease'] == dis]['Medication']\n",
    "    # med = [med for med in med.values]\n",
    "    med_series = medication[medication['Disease'] == dis]['Medication']\n",
    "    med = []\n",
    "    if not med_series.empty:\n",
    "        try:\n",
    "            med = ast.literal_eval(med_series.iloc[0])  # Converts string list to actual list\n",
    "        except:\n",
    "            med = []\n",
    "\n",
    "    die_series = diet[diet['Disease'] == dis]['Diet']\n",
    "    die = []\n",
    "    if not die_series.empty:\n",
    "        try:\n",
    "            die = ast.literal_eval(die_series.iloc[0])\n",
    "        except:\n",
    "            die = []\n",
    "    prec =precautions[precautions.Disease == dis][['Precaution_1','Precaution_2','Precaution_3','Precaution_4']]\n",
    "    prec = [col for col in prec.values]\n",
    "    \n",
    "    # de = diet[diet.Disease == dis]['Diet']\n",
    "    # de = [col for col in de.values]\n",
    "\n",
    "    wrk = workout[workout.disease == dis]['workout']\n",
    "    return desc,med,prec,die,wrk\n",
    "# s = df.columns.drop('prognosis')\n",
    "# symptoms_dict = {name:idx for idx,name in enumerate(s)}\n",
    "# print(symptoms_list)\n",
    "\n",
    "symptoms_dict = {'itching': 0, 'skin_rash': 1, 'nodal_skin_eruptions': 2, 'continuous_sneezing': 3, 'shivering': 4, 'chills': 5,\n",
    "                 'joint_pain': 6, 'stomach_pain': 7, 'acidity': 8, 'ulcers_on_tongue': 9, 'muscle_wasting': 10, 'vomiting': 11, \n",
    "                 'burning_micturition': 12, 'spotting_ urination': 13, 'fatigue': 14, 'weight_gain': 15, 'anxiety': 16, 'cold_hands_and_feets': 17,\n",
    "                 'mood_swings': 18, 'weight_loss': 19, 'restlessness': 20, 'lethargy': 21, 'patches_in_throat': 22, 'irregular_sugar_level': 23,\n",
    "                 'cough': 24, 'high_fever': 25,'sunken_eyes': 26, 'breathlessness': 27, 'sweating': 28, 'dehydration': 29, 'indigestion': 30,\n",
    "                 'headache': 31, 'yellowish_skin': 32, 'dark_urine': 33, 'nausea': 34, 'loss_of_appetite': 35, 'pain_behind_the_eyes': 36,\n",
    "                 'back_pain': 37, 'constipation': 38, 'abdominal_pain': 39, 'diarrhoea': 40, 'mild_fever': 41, 'yellow_urine': 42,\n",
    "                 'yellowing_of_eyes': 43, 'acute_liver_failure': 44, 'fluid_overload': 45, 'swelling_of_stomach': 46, 'swelled_lymph_nodes': 47,\n",
    "                 'malaise': 48, 'blurred_and_distorted_vision': 49, 'phlegm': 50, 'throat_irritation': 51, 'redness_of_eyes': 52, 'sinus_pressure': 53,\n",
    "                 'runny_nose': 54, 'congestion': 55, 'chest_pain': 56, 'weakness_in_limbs': 57, 'fast_heart_rate': 58, 'pain_during_bowel_movements': 59,\n",
    "                 'pain_in_anal_region': 60, 'bloody_stool': 61, 'irritation_in_anus': 62, 'neck_pain': 63, 'dizziness': 64, 'cramps': 65, 'bruising': 66,\n",
    "                 'obesity': 67, 'swollen_legs': 68, 'swollen_blood_vessels': 69, 'puffy_face_and_eyes': 70, 'enlarged_thyroid': 71, \n",
    "                 'brittle_nails': 72, 'swollen_extremeties': 73, 'excessive_hunger': 74, 'extra_marital_contacts': 75, 'drying_and_tingling_lips': 76, \n",
    "                 'slurred_speech': 77, 'knee_pain': 78, 'hip_joint_pain': 79, 'muscle_weakness': 80, 'stiff_neck': 81, 'swelling_joints': 82,\n",
    "                 'movement_stiffness': 83, 'spinning_movements': 84, 'loss_of_balance': 85, 'unsteadiness': 86, 'weakness_of_one_body_side': 87,\n",
    "                 'loss_of_smell': 88,'bladder_discomfort': 89, 'foul_smell_of urine': 90, 'continuous_feel_of_urine': 91, 'passage_of_gases': 92,\n",
    "                 'internal_itching': 93, 'toxic_look_(typhos)': 94,'depression': 95, 'irritability': 96, 'muscle_pain': 97, 'altered_sensorium': 98, \n",
    "                 'red_spots_over_body': 99, 'belly_pain': 100, 'abnormal_menstruation': 101, 'dischromic _patches': 102, 'watering_from_eyes': 103, \n",
    "                 'increased_appetite': 104, 'polyuria': 105, 'family_history': 106, 'mucoid_sputum': 107, 'rusty_sputum': 108, \n",
    "                 'lack_of_concentration': 109,'visual_disturbances': 110, 'receiving_blood_transfusion': 111, 'receiving_unsterile_injections': 112, \n",
    "                 'coma': 113, 'stomach_bleeding': 114, 'distention_of_abdomen': 115, 'history_of_alcohol_consumption': 116,\n",
    "                 'fluid_overload.1': 117, 'blood_in_sputum': 118, 'prominent_veins_on_calf': 119, 'palpitations': 120, 'painful_walking': 121,\n",
    "                 'pus_filled_pimples': 122, 'blackheads': 123, 'scurring': 124, 'skin_peeling': 125, 'silver_like_dusting': 126, \n",
    "                 'small_dents_in_nails': 127, 'inflammatory_nails': 128, 'blister': 129, 'red_sore_around_nose': 130, 'yellow_crust_ooze': 131}\n",
    "\n",
    "\n",
    "#le = LabelEncoder()\n",
    "#sys_des['Disease_label'] = le.fit_transform(sys_des.Disease)\n",
    "#le.classes_\n",
    "#len(le.classes_)\n",
    "#disease_lsit = {k:v for k,v in enumerate(le.classes_)}\n",
    "\n",
    "diseases_list = {15: 'Fungal infection', 4: 'Allergy', 16: 'GERD', 9: 'Chronic cholestasis', 14: 'Drug Reaction',\n",
    "                 33: 'Peptic ulcer diseae', 1: 'AIDS', 12: 'Diabetes ', 17: 'Gastroenteritis', 6: 'Bronchial Asthma', \n",
    "                 23: 'Hypertension ', 30: 'Migraine', 7: 'Cervical spondylosis', 32: 'Paralysis (brain hemorrhage)', \n",
    "                 28: 'Jaundice', 29: 'Malaria', 8: 'Chicken pox', 11: 'Dengue', 37: 'Typhoid', 40: 'hepatitis A', 19: 'Hepatitis B',\n",
    "                 20: 'Hepatitis C', 21: 'Hepatitis D', 22: 'Hepatitis E', 3: 'Alcoholic hepatitis', 36: 'Tuberculosis',\n",
    "                 10: 'Common Cold', 34: 'Pneumonia', 13: 'Dimorphic hemmorhoids(piles)', 18: 'Heart attack', 39: 'Varicose veins',\n",
    "                 26: 'Hypothyroidism', 24: 'Hyperthyroidism', 25: 'Hypoglycemia', 31: 'Osteoarthristis', 5: 'Arthritis',\n",
    "                 0: '(vertigo) Paroymsal  Positional Vertigo', 2: 'Acne', 38: 'Urinary tract infection', 35: 'Psoriasis', 27: 'Impetigo'}\n",
    "\n",
    "\n",
    "def get_predicted_disease(patient_sym):\n",
    "    input_vector = np.zeros(len(symptoms_dict))\n",
    "    found = False\n",
    "    for i in patient_sym:\n",
    "        if i in symptoms_dict:\n",
    "            input_vector[symptoms_dict[i]] = 1\n",
    "            found = True\n",
    "    if not found:\n",
    "        return \"Invalid symptoms\"\n",
    "    prediction = diseases_list[svc.predict([input_vector])[0]]\n",
    "    return prediction"
   ]
  },
  {
   "cell_type": "code",
   "execution_count": 47,
   "id": "6dfb079a-0465-48fe-bba3-40a14d33cb1d",
   "metadata": {},
   "outputs": [
    {
     "name": "stdin",
     "output_type": "stream",
     "text": [
      "enter your symptoms: itching,sleeping,coughing\n"
     ]
    },
    {
     "name": "stdout",
     "output_type": "stream",
     "text": [
      "================== PREDICTED DISEASE ===================\n",
      "Fungal infection\n",
      "================== DESCRIPTION =========================\n",
      "Fungal infection is a common skin condition caused by fungi.\n",
      "================== PRESCRIPTION ========================\n",
      "1  :  bath twice\n",
      "2  :  use detol or neem in bathing water\n",
      "3  :  keep infected area dry\n",
      "4  :  use clean cloths\n",
      "================== MEDICATIONS =========================\n",
      "5  :  Antifungal Cream\n",
      "6  :  Fluconazole\n",
      "7  :  Terbinafine\n",
      "8  :  Clotrimazole\n",
      "9  :  Ketoconazole\n",
      "================== DIET PLANS ==========================\n",
      "10  :  Antifungal Diet\n",
      "11  :  Probiotics\n",
      "12  :  Garlic\n",
      "13  :  Coconut oil\n",
      "14  :  Turmeric\n",
      "================== WORKOUT =============================\n",
      "15  :  Avoid sugary foods\n",
      "16  :  Consume probiotics\n",
      "17  :  Increase intake of garlic\n",
      "18  :  Include yogurt in diet\n",
      "19  :  Limit processed foods\n",
      "20  :  Stay hydrated\n",
      "21  :  Consume green tea\n",
      "22  :  Eat foods rich in zinc\n",
      "23  :  Include turmeric in diet\n",
      "24  :  Eat fruits and vegetables\n"
     ]
    }
   ],
   "source": [
    "symptoms = input('enter your symptoms:')\n",
    "user_symptoms = [s.strip() for s in symptoms.split(',')] # Removing leading / trailing whitespaces\n",
    "user_symptoms = [sym.strip(\"[]' \") for sym in user_symptoms] \n",
    "pred_dis = get_predicted_disease(user_symptoms)\n",
    "desc,med,prec,de,wrk = helper(pred_dis)\n",
    "\n",
    "print(\"================== PREDICTED DISEASE ===================\")\n",
    "print(pred_dis)\n",
    "print(\"================== DESCRIPTION =========================\")\n",
    "print(desc)\n",
    "print(\"================== PRESCRIPTION ========================\")\n",
    "w = 1\n",
    "for p_i in prec[0]:\n",
    "    print(w,\" : \", p_i)\n",
    "    w+=1\n",
    "print(\"================== MEDICATIONS =========================\")\n",
    "for m_i in med:\n",
    "    print(w,\" : \",m_i)\n",
    "    w+=1\n",
    "print(\"================== DIET PLANS ==========================\")\n",
    "for d_i in de:\n",
    "    print(w,\" : \",d_i)\n",
    "    w+=1\n",
    "print(\"================== WORKOUT =============================\")\n",
    "for w_i in wrk:\n",
    "    print(w,\" : \",w_i)\n",
    "    w+=1"
   ]
  },
  {
   "cell_type": "code",
   "execution_count": 49,
   "id": "eeb30c49-4775-4e31-a22a-641f9a5d1617",
   "metadata": {},
   "outputs": [
    {
     "name": "stdin",
     "output_type": "stream",
     "text": [
      "enter your symptoms: vomiting,burning_micturation,spotting_urination\n"
     ]
    },
    {
     "name": "stdout",
     "output_type": "stream",
     "text": [
      "================== PREDICTED DISEASE ===================\n",
      "Paralysis (brain hemorrhage)\n",
      "================== DESCRIPTION =========================\n",
      "Paralysis (brain hemorrhage) refers to the loss of muscle function due to bleeding in the brain.\n",
      "================== PRESCRIPTION ========================\n",
      "1  :  massage\n",
      "2  :  eat healthy\n",
      "3  :  exercise\n",
      "4  :  consult doctor\n",
      "================== MEDICATIONS =========================\n",
      "5  :  Blood thinners\n",
      "6  :  Clot-dissolving medications\n",
      "7  :  Anticonvulsants\n",
      "8  :  Physical therapy\n",
      "9  :  Occupational therapy\n",
      "================== DIET PLANS ==========================\n",
      "10  :  Heart-Healthy Diet\n",
      "11  :  Low-sodium foods\n",
      "12  :  Fruits and vegetables\n",
      "13  :  Whole grains\n",
      "14  :  Lean proteins\n",
      "================== WORKOUT =============================\n",
      "15  :  Follow a balanced and nutritious diet\n",
      "16  :  Include lean proteins\n",
      "17  :  Consume nutrient-rich foods\n",
      "18  :  Stay hydrated\n",
      "19  :  Include healthy fats\n",
      "20  :  Limit sugary foods and beverages\n",
      "21  :  Include antioxidants\n",
      "22  :  Consume foods rich in vitamin K\n",
      "23  :  Consult a healthcare professional\n",
      "24  :  Manage stress\n"
     ]
    }
   ],
   "source": [
    "symptoms = input('enter your symptoms:')\n",
    "user_symptoms = [s.strip() for s in symptoms.split(',')] # Removing leading / trailing whitespaces\n",
    "user_symptoms = [sym.strip(\"[]' \") for sym in user_symptoms] \n",
    "pred_dis = get_predicted_disease(user_symptoms)\n",
    "desc,med,prec,de,wrk = helper(pred_dis)\n",
    "\n",
    "print(\"================== PREDICTED DISEASE ===================\")\n",
    "print(pred_dis)\n",
    "print(\"================== DESCRIPTION =========================\")\n",
    "print(desc)\n",
    "print(\"================== PRESCRIPTION ========================\")\n",
    "w = 1\n",
    "for p_i in prec[0]:\n",
    "    print(w,\" : \", p_i)\n",
    "    w+=1\n",
    "print(\"================== MEDICATIONS =========================\")\n",
    "for m_i in med:\n",
    "    print(w,\" : \",m_i)\n",
    "    w+=1\n",
    "print(\"================== DIET PLANS ==========================\")\n",
    "for d_i in de:\n",
    "    print(w,\" : \",d_i)\n",
    "    w+=1\n",
    "print(\"================== WORKOUT =============================\")\n",
    "for w_i in wrk:\n",
    "    print(w,\" : \",w_i)\n",
    "    w+=1"
   ]
  },
  {
   "cell_type": "code",
   "execution_count": 51,
   "id": "52c5342d-a2e9-40f4-a781-ce2ceac3f873",
   "metadata": {},
   "outputs": [
    {
     "name": "stdin",
     "output_type": "stream",
     "text": [
      "enter your symptoms: yellow_crust_ooze,red_sore_around_nose,small_dents_in_nails,inflammatory_nails,blister\n"
     ]
    },
    {
     "name": "stdout",
     "output_type": "stream",
     "text": [
      "================== PREDICTED DISEASE ===================\n",
      "Impetigo\n",
      "================== DESCRIPTION =========================\n",
      "Impetigo is a highly contagious skin infection causing red sores that can break open.\n",
      "================== PRESCRIPTION ========================\n",
      "1  :  soak affected area in warm water\n",
      "2  :  use antibiotics\n",
      "3  :  remove scabs with wet compressed cloth\n",
      "4  :  consult doctor\n",
      "================== MEDICATIONS =========================\n",
      "5  :  Topical antibiotics\n",
      "6  :  Oral antibiotics\n",
      "7  :  Antiseptics\n",
      "8  :  Ointments\n",
      "9  :  Warm compresses\n",
      "================== DIET PLANS ==========================\n",
      "10  :  Impetigo Diet\n",
      "11  :  Antibiotic treatment\n",
      "12  :  Fruits and vegetables\n",
      "13  :  Hydration\n",
      "14  :  Protein-rich foods\n",
      "================== WORKOUT =============================\n",
      "15  :  Maintain good hygiene\n",
      "16  :  Stay hydrated\n",
      "17  :  Consume nutrient-rich foods\n",
      "18  :  Limit sugary foods and beverages\n",
      "19  :  Include foods rich in vitamin C\n",
      "20  :  Consult a healthcare professional\n",
      "21  :  Follow medical recommendations\n",
      "22  :  Avoid scratching\n",
      "23  :  Take prescribed antibiotics\n",
      "24  :  Practice wound care\n"
     ]
    }
   ],
   "source": [
    "#yellow_crust_ooze,red_sore_around_nose,small_dents_in_nails,inflammatory_nails,blister\n",
    "symptoms = input('enter your symptoms:')\n",
    "user_symptoms = [s.strip() for s in symptoms.split(',')] # Removing leading / trailing whitespaces\n",
    "user_symptoms = [sym.strip(\"[]' \") for sym in user_symptoms] \n",
    "pred_dis = get_predicted_disease(user_symptoms)\n",
    "desc,med,prec,de,wrk = helper(pred_dis)\n",
    "\n",
    "print(\"================== PREDICTED DISEASE ===================\")\n",
    "print(pred_dis)\n",
    "print(\"================== DESCRIPTION =========================\")\n",
    "print(desc)\n",
    "print(\"================== PRESCRIPTION ========================\")\n",
    "w = 1\n",
    "for p_i in prec[0]:\n",
    "    print(w,\" : \", p_i)\n",
    "    w+=1\n",
    "print(\"================== MEDICATIONS =========================\")\n",
    "for m_i in med:\n",
    "    print(w,\" : \",m_i)\n",
    "    w+=1\n",
    "print(\"================== DIET PLANS ==========================\")\n",
    "for d_i in de:\n",
    "    print(w,\" : \",d_i)\n",
    "    w+=1\n",
    "print(\"================== WORKOUT =============================\")\n",
    "for w_i in wrk:\n",
    "    print(w,\" : \",w_i)\n",
    "    w+=1"
   ]
  },
  {
   "cell_type": "code",
   "execution_count": 61,
   "id": "e36075ef-1c50-4b56-a1ba-5d6b8cd2b358",
   "metadata": {},
   "outputs": [
    {
     "data": {
      "text/plain": [
       "40    ['Topical antibiotics', 'Oral antibiotics', 'A...\n",
       "Name: Medication, dtype: object"
      ]
     },
     "execution_count": 61,
     "metadata": {},
     "output_type": "execute_result"
    }
   ],
   "source": [
    "med = medication[medication.Disease == 'Impetigo']['Medication']\n",
    "med"
   ]
  },
  {
   "cell_type": "code",
   "execution_count": 63,
   "id": "5c5a0f51-6d6f-4fc4-8c51-fd4ccf38ce83",
   "metadata": {},
   "outputs": [
    {
     "data": {
      "text/plain": [
       "['Topical antibiotics',\n",
       " 'Oral antibiotics',\n",
       " 'Antiseptics',\n",
       " 'Ointments',\n",
       " 'Warm compresses']"
      ]
     },
     "execution_count": 63,
     "metadata": {},
     "output_type": "execute_result"
    }
   ],
   "source": [
    "ast.literal_eval(med.iloc[0])"
   ]
  }
 ],
 "metadata": {
  "kernelspec": {
   "display_name": "Python 3 (ipykernel)",
   "language": "python",
   "name": "python3"
  },
  "language_info": {
   "codemirror_mode": {
    "name": "ipython",
    "version": 3
   },
   "file_extension": ".py",
   "mimetype": "text/x-python",
   "name": "python",
   "nbconvert_exporter": "python",
   "pygments_lexer": "ipython3",
   "version": "3.12.4"
  }
 },
 "nbformat": 4,
 "nbformat_minor": 5
}
